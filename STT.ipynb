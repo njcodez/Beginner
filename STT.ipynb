{
  "nbformat": 4,
  "nbformat_minor": 0,
  "metadata": {
    "colab": {
      "provenance": [],
      "authorship_tag": "ABX9TyOAq2OuqapNvl+U+36Oq+rx",
      "include_colab_link": true
    },
    "kernelspec": {
      "name": "python3",
      "display_name": "Python 3"
    },
    "language_info": {
      "name": "python"
    },
    "accelerator": "TPU",
    "gpuClass": "standard"
  },
  "cells": [
    {
      "cell_type": "markdown",
      "metadata": {
        "id": "view-in-github",
        "colab_type": "text"
      },
      "source": [
        "<a href=\"https://colab.research.google.com/github/njcodez/Python/blob/main/STT.ipynb\" target=\"_parent\"><img src=\"https://colab.research.google.com/assets/colab-badge.svg\" alt=\"Open In Colab\"/></a>"
      ]
    },
    {
      "cell_type": "code",
      "source": [
        "import speech_recognition\n",
        "try:\n",
        "  import speech_recognition as sr\n",
        "  import IPython\n",
        "except:\n",
        "  %pip install speech_recognition\n",
        "  %pip install IPython"
      ],
      "metadata": {
        "id": "AF8hMxsSZZ-R"
      },
      "execution_count": 21,
      "outputs": []
    },
    {
      "cell_type": "code",
      "source": [
        "audio_src = '/content/Gokul.mp3'"
      ],
      "metadata": {
        "id": "8F_shZmTZgug"
      },
      "execution_count": 22,
      "outputs": []
    },
    {
      "cell_type": "code",
      "source": [
        "r = sr.Recognizer()"
      ],
      "metadata": {
        "id": "oznultsRbDBD"
      },
      "execution_count": 23,
      "outputs": []
    },
    {
      "cell_type": "code",
      "source": [
        "def audio_to_text(audio_file):\n",
        "  with sr.AudioFile(audio_file) as source:\n",
        "    audio_text = r.listen(source)\n",
        "    try:\n",
        "        text = r.recognize_google(audio_text)\n",
        "        print('Recognizing...')\n",
        "    except:\n",
        "         print(\"Can't recognize please try again \")\n",
        "\n",
        "    return text"
      ],
      "metadata": {
        "id": "Ipz_D8Xea7t6"
      },
      "execution_count": 29,
      "outputs": []
    },
    {
      "cell_type": "code",
      "source": [
        "import subprocess\n",
        "\n",
        "if audio_src[:-3] != \"wav\": \n",
        "  subprocess.call(['ffmpeg', '-i', '/content/Gokul.mp3','/content/Gokul.wav'])\n",
        "  audio_src = '/content/Gokul.wav'"
      ],
      "metadata": {
        "id": "oJRivS46btqt"
      },
      "execution_count": 30,
      "outputs": []
    },
    {
      "cell_type": "code",
      "source": [
        "audio_to_text(audio_src)"
      ],
      "metadata": {
        "colab": {
          "base_uri": "https://localhost:8080/",
          "height": 1000
        },
        "id": "_re1dVapbPQa",
        "outputId": "bc68c6ed-8024-4dc9-c2ef-7af623107ea9"
      },
      "execution_count": 31,
      "outputs": [
        {
          "output_type": "stream",
          "name": "stdout",
          "text": [
            "result2:\n",
            "{   'alternative': [   {   'confidence': 0.96035731,\n",
            "                           'transcript': 'media which is the plural form of '\n",
            "                                         'medium refers to the communication '\n",
            "                                         'channels through which we '\n",
            "                                         'disseminate news music movies '\n",
            "                                         'education promotional messages '\n",
            "                                         'another data it includes physical '\n",
            "                                         'and online newspapers and magazines '\n",
            "                                         'televisions radio will go telephone '\n",
            "                                         'internet and fax good morning to all '\n",
            "                                         \"I'm Google nothing of Class 12 from \"\n",
            "                                         'free chattan techno school here to '\n",
            "                                         'talk on impacts of media on '\n",
            "                                         'technology media and Technology have '\n",
            "                                         'a wall tremendously over the last '\n",
            "                                         'two decades each one has helped the '\n",
            "                                         'other evolved when unique ways '\n",
            "                                         'technology advancement have allowed '\n",
            "                                         'people to engage with social media '\n",
            "                                         'on smartphones and computers now '\n",
            "                                         'people are connected through social '\n",
            "                                         'media wherever they go because '\n",
            "                                         'everyone has a smartphone in their '\n",
            "                                         'pocket on the flip side media is '\n",
            "                                         'changing technology as well computer '\n",
            "                                         'programmers or incorporating media '\n",
            "                                         'networking into their software '\n",
            "                                         'programs there are also cases where '\n",
            "                                         'media influences influences which '\n",
            "                                         'software programs get developed in '\n",
            "                                         'the first place business technology '\n",
            "                                         'has become largely dependent on '\n",
            "                                         'social media in more ways they are '\n",
            "                                         'the other'},\n",
            "                       {   'transcript': 'media which is the plural form of '\n",
            "                                         'medium refers to the communication '\n",
            "                                         'channels through which we '\n",
            "                                         'disseminate news music movies '\n",
            "                                         'education promotional messages '\n",
            "                                         'another data it includes physical '\n",
            "                                         'and online newspapers and magazines '\n",
            "                                         'televisions radio will go telephone '\n",
            "                                         'internet and fax good morning to all '\n",
            "                                         \"I'm Google nothing of Class 12 from \"\n",
            "                                         'free chattan techno school here to '\n",
            "                                         'talk on impacts of media on '\n",
            "                                         'technology media and Technology have '\n",
            "                                         'a wall tremendously over the last '\n",
            "                                         'two decades each one has helped the '\n",
            "                                         'other evolved when unique ways '\n",
            "                                         'technology advancement have allowed '\n",
            "                                         'people to engage with social media '\n",
            "                                         'on smartphones and computers now '\n",
            "                                         'people are connected through social '\n",
            "                                         'media wherever they go because '\n",
            "                                         'everyone has a smartphone in their '\n",
            "                                         'pocket on the flip side media is '\n",
            "                                         'changing technology as well computer '\n",
            "                                         'programmers or incorporating media '\n",
            "                                         'networking into their software '\n",
            "                                         'programs there are also cases bad '\n",
            "                                         'media influences influences which '\n",
            "                                         'software programs get developed in '\n",
            "                                         'the first place business technology '\n",
            "                                         'has become largely dependent on '\n",
            "                                         'social media in more ways they are '\n",
            "                                         'the other'},\n",
            "                       {   'transcript': 'media which is the plural form of '\n",
            "                                         'medium refers to the communication '\n",
            "                                         'channels through which we '\n",
            "                                         'disseminate news music movies '\n",
            "                                         'education promotional messages '\n",
            "                                         'another data it includes physical '\n",
            "                                         'and online newspapers and magazines '\n",
            "                                         'televisions radio will go telephone '\n",
            "                                         'internet and fax good morning to all '\n",
            "                                         \"I'm Google nothing of Class 12 from \"\n",
            "                                         'free chattan techno school here to '\n",
            "                                         'talk on impact of media on '\n",
            "                                         'technology media and Technology have '\n",
            "                                         'a wall tremendously over the last '\n",
            "                                         'two decades each one has helped the '\n",
            "                                         'other evolved when unique ways '\n",
            "                                         'technology advancement have allowed '\n",
            "                                         'people to engage with social media '\n",
            "                                         'on smartphones and computers now '\n",
            "                                         'people are connected through social '\n",
            "                                         'media wherever they go because '\n",
            "                                         'everyone has a smartphone in their '\n",
            "                                         'pocket on the flip side media is '\n",
            "                                         'changing technology as well computer '\n",
            "                                         'programmers or incorporating media '\n",
            "                                         'networking into their software '\n",
            "                                         'programs there are also cases where '\n",
            "                                         'media influences influences which '\n",
            "                                         'software programs get developed in '\n",
            "                                         'the first place business technology '\n",
            "                                         'has become largely dependent on '\n",
            "                                         'social media in more ways they are '\n",
            "                                         'the other'},\n",
            "                       {   'transcript': 'media which is the plural form of '\n",
            "                                         'medium refers to the communication '\n",
            "                                         'channels through which we '\n",
            "                                         'disseminate news music movies '\n",
            "                                         'education promotional messages '\n",
            "                                         'another data it includes physical '\n",
            "                                         'and online newspapers and magazines '\n",
            "                                         'televisions radio will go telephone '\n",
            "                                         'internet and fax good morning to all '\n",
            "                                         \"I'm Google nothing of Class 12 from \"\n",
            "                                         'free chattan techno school here to '\n",
            "                                         'talk on impact of media on '\n",
            "                                         'technology media and Technology have '\n",
            "                                         'a wall tremendously over the last '\n",
            "                                         'two decades each one has helped the '\n",
            "                                         'other evolved when unique ways '\n",
            "                                         'technology advancement have allowed '\n",
            "                                         'people to engage with social media '\n",
            "                                         'on smartphones and computers now '\n",
            "                                         'people are connected through social '\n",
            "                                         'media wherever they go because '\n",
            "                                         'everyone has a smartphone in their '\n",
            "                                         'pocket on the flip side media is '\n",
            "                                         'changing technology as well computer '\n",
            "                                         'programmers or incorporating media '\n",
            "                                         'networking into their software '\n",
            "                                         'programs there are also cases bad '\n",
            "                                         'media influences influences which '\n",
            "                                         'software programs get developed in '\n",
            "                                         'the first place business technology '\n",
            "                                         'has become largely dependent on '\n",
            "                                         'social media in more ways they are '\n",
            "                                         'the other'},\n",
            "                       {   'transcript': 'media which is the plural form of '\n",
            "                                         'medium refers to the communication '\n",
            "                                         'channels through which we '\n",
            "                                         'disseminate news music movies '\n",
            "                                         'education promotional messages '\n",
            "                                         'another data it includes physical '\n",
            "                                         'and online newspapers and magazines '\n",
            "                                         'televisions radio will go telephone '\n",
            "                                         'internet and fax good morning to all '\n",
            "                                         \"I'm Google nothing of Class 12 from \"\n",
            "                                         'free chattan techno school here to '\n",
            "                                         'talk on impacts of media on '\n",
            "                                         'technology media and Technology have '\n",
            "                                         'a wall tremendously over the last '\n",
            "                                         'two decades each one has helped the '\n",
            "                                         'other evolving unique ways '\n",
            "                                         'technology advancement have allowed '\n",
            "                                         'people to engage with social media '\n",
            "                                         'on smartphones and computers now '\n",
            "                                         'people are connected through social '\n",
            "                                         'media wherever they go because '\n",
            "                                         'everyone has a smartphone in their '\n",
            "                                         'pocket on the flip side media is '\n",
            "                                         'changing technology as well computer '\n",
            "                                         'programmers or incorporating media '\n",
            "                                         'networking into their software '\n",
            "                                         'programs there are also cases where '\n",
            "                                         'media influences influences which '\n",
            "                                         'software programs get developed in '\n",
            "                                         'the first place business technology '\n",
            "                                         'has become largely dependent on '\n",
            "                                         'social media in more ways they are '\n",
            "                                         'the other'}],\n",
            "    'final': True}\n",
            "Recognizing...\n"
          ]
        },
        {
          "output_type": "execute_result",
          "data": {
            "text/plain": [
              "\"media which is the plural form of medium refers to the communication channels through which we disseminate news music movies education promotional messages another data it includes physical and online newspapers and magazines televisions radio will go telephone internet and fax good morning to all I'm Google nothing of Class 12 from free chattan techno school here to talk on impacts of media on technology media and Technology have a wall tremendously over the last two decades each one has helped the other evolved when unique ways technology advancement have allowed people to engage with social media on smartphones and computers now people are connected through social media wherever they go because everyone has a smartphone in their pocket on the flip side media is changing technology as well computer programmers or incorporating media networking into their software programs there are also cases where media influences influences which software programs get developed in the first place business technology has become largely dependent on social media in more ways they are the other\""
            ],
            "application/vnd.google.colaboratory.intrinsic+json": {
              "type": "string"
            }
          },
          "metadata": {},
          "execution_count": 31
        }
      ]
    }
  ]
}